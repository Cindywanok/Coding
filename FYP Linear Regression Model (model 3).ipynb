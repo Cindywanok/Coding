{
 "cells": [
  {
   "cell_type": "code",
   "execution_count": 1,
   "id": "263d61d3",
   "metadata": {},
   "outputs": [],
   "source": [
    "import pandas as pd\n",
    "import numpy as np\n",
    "from sklearn import metrics\n",
    "import matplotlib.pyplot as plt\n",
    "import yfinance as yf"
   ]
  },
  {
   "cell_type": "code",
   "execution_count": 2,
   "id": "7bcce394",
   "metadata": {},
   "outputs": [
    {
     "name": "stdout",
     "output_type": "stream",
     "text": [
      "[*********************100%***********************]  1 of 1 completed\n"
     ]
    }
   ],
   "source": [
    "#Fetch HSI data using yfinance \n",
    "start_date = '2004-03-13'\n",
    "end_date = '2024-03-14'\n",
    "symbols = ['^HSI']\n",
    "HSI_data = yf.download(symbols, start=start_date, end=end_date)"
   ]
  },
  {
   "cell_type": "code",
   "execution_count": 3,
   "id": "c8128ec8",
   "metadata": {},
   "outputs": [
    {
     "name": "stdout",
     "output_type": "stream",
     "text": [
      "           Date          Open          High           Low         Close     Adj Close      Volume\n",
      "4925 2024-03-07  16417.769531  16512.410156  16136.120117  16229.780273  16229.780273  2535414300\n",
      "4926 2024-03-08  16275.389648  16489.730469  16275.389648  16353.389648  16353.389648  2596313300\n",
      "4927 2024-03-11  16416.169922  16625.640625  16416.169922  16587.570312  16587.570312  2494031000\n",
      "4928 2024-03-12  16701.949219  17154.869141  16613.449219  17093.500000  17093.500000  4001753000\n",
      "4929 2024-03-13  17059.109375  17214.669922  17050.869141  17082.109375  17082.109375  2801014000\n",
      "Date         False\n",
      "Open         False\n",
      "High         False\n",
      "Low          False\n",
      "Close        False\n",
      "Adj Close    False\n",
      "Volume       False\n",
      "dtype: bool\n"
     ]
    }
   ],
   "source": [
    "#in order to show all the columns in one row\n",
    "pd.set_option('display.max_columns', 100)\n",
    "pd.set_option('display.width', 100)\n",
    "\n",
    "# Reset index to move the Date from index to a column\n",
    "HSI_data.reset_index(inplace=True)\n",
    "\n",
    "# Check the modified dataframe\n",
    "print(HSI_data.tail())\n",
    "\n",
    "#check if any nan value to make sure the smoothness of aplying LTSM to predict the indice price\n",
    "print(np.isnan(HSI_data).any())\n"
   ]
  },
  {
   "cell_type": "code",
   "execution_count": 4,
   "id": "3703df83",
   "metadata": {},
   "outputs": [],
   "source": [
    "HSI_data['Date'] = pd.to_datetime(HSI_data.Date)"
   ]
  },
  {
   "cell_type": "code",
   "execution_count": 5,
   "id": "5ac13a8f",
   "metadata": {},
   "outputs": [
    {
     "data": {
      "text/plain": [
       "Date         0\n",
       "Open         0\n",
       "High         0\n",
       "Low          0\n",
       "Close        0\n",
       "Adj Close    0\n",
       "Volume       0\n",
       "dtype: int64"
      ]
     },
     "execution_count": 5,
     "metadata": {},
     "output_type": "execute_result"
    }
   ],
   "source": [
    "HSI_data.isna().sum()"
   ]
  },
  {
   "cell_type": "code",
   "execution_count": 6,
   "id": "e8c773e5",
   "metadata": {},
   "outputs": [],
   "source": [
    "HSI_data.drop('Adj Close', axis = 1, inplace = True)"
   ]
  },
  {
   "cell_type": "code",
   "execution_count": 7,
   "id": "7d9571a1",
   "metadata": {},
   "outputs": [
    {
     "data": {
      "text/html": [
       "<div>\n",
       "<style scoped>\n",
       "    .dataframe tbody tr th:only-of-type {\n",
       "        vertical-align: middle;\n",
       "    }\n",
       "\n",
       "    .dataframe tbody tr th {\n",
       "        vertical-align: top;\n",
       "    }\n",
       "\n",
       "    .dataframe thead th {\n",
       "        text-align: right;\n",
       "    }\n",
       "</style>\n",
       "<table border=\"1\" class=\"dataframe\">\n",
       "  <thead>\n",
       "    <tr style=\"text-align: right;\">\n",
       "      <th></th>\n",
       "      <th>Date</th>\n",
       "      <th>Open</th>\n",
       "      <th>High</th>\n",
       "      <th>Low</th>\n",
       "      <th>Close</th>\n",
       "      <th>Volume</th>\n",
       "    </tr>\n",
       "  </thead>\n",
       "  <tbody>\n",
       "    <tr>\n",
       "      <th>0</th>\n",
       "      <td>2004-03-15</td>\n",
       "      <td>13002.320312</td>\n",
       "      <td>13075.959961</td>\n",
       "      <td>12912.549805</td>\n",
       "      <td>12919.410156</td>\n",
       "      <td>274434000</td>\n",
       "    </tr>\n",
       "    <tr>\n",
       "      <th>1</th>\n",
       "      <td>2004-03-16</td>\n",
       "      <td>12820.370117</td>\n",
       "      <td>12947.500000</td>\n",
       "      <td>12791.410156</td>\n",
       "      <td>12932.620117</td>\n",
       "      <td>203173400</td>\n",
       "    </tr>\n",
       "    <tr>\n",
       "      <th>2</th>\n",
       "      <td>2004-03-17</td>\n",
       "      <td>12948.490234</td>\n",
       "      <td>13033.750000</td>\n",
       "      <td>12889.370117</td>\n",
       "      <td>12975.719727</td>\n",
       "      <td>249012200</td>\n",
       "    </tr>\n",
       "    <tr>\n",
       "      <th>3</th>\n",
       "      <td>2004-03-18</td>\n",
       "      <td>12998.690430</td>\n",
       "      <td>13017.059570</td>\n",
       "      <td>12787.320312</td>\n",
       "      <td>12816.190430</td>\n",
       "      <td>259691600</td>\n",
       "    </tr>\n",
       "    <tr>\n",
       "      <th>4</th>\n",
       "      <td>2004-03-19</td>\n",
       "      <td>12792.669922</td>\n",
       "      <td>12851.120117</td>\n",
       "      <td>12715.969727</td>\n",
       "      <td>12790.580078</td>\n",
       "      <td>349134000</td>\n",
       "    </tr>\n",
       "  </tbody>\n",
       "</table>\n",
       "</div>"
      ],
      "text/plain": [
       "        Date          Open          High           Low         Close     Volume\n",
       "0 2004-03-15  13002.320312  13075.959961  12912.549805  12919.410156  274434000\n",
       "1 2004-03-16  12820.370117  12947.500000  12791.410156  12932.620117  203173400\n",
       "2 2004-03-17  12948.490234  13033.750000  12889.370117  12975.719727  249012200\n",
       "3 2004-03-18  12998.690430  13017.059570  12787.320312  12816.190430  259691600\n",
       "4 2004-03-19  12792.669922  12851.120117  12715.969727  12790.580078  349134000"
      ]
     },
     "execution_count": 7,
     "metadata": {},
     "output_type": "execute_result"
    }
   ],
   "source": [
    "HSI_data.head()"
   ]
  },
  {
   "cell_type": "code",
   "execution_count": 8,
   "id": "942ca28c",
   "metadata": {},
   "outputs": [
    {
     "data": {
      "text/plain": [
       "<AxesSubplot:>"
      ]
     },
     "execution_count": 8,
     "metadata": {},
     "output_type": "execute_result"
    },
    {
     "data": {
      "image/png": "[encoded data removed]",
      "text/plain": [
       "<Figure size 1152x432 with 1 Axes>"
      ]
     },
     "metadata": {
      "needs_background": "light"
     },
     "output_type": "display_data"
    }
   ],
   "source": [
    "HSI_data['Open'].plot(figsize=(16,6))"
   ]
  },
  {
   "cell_type": "code",
   "execution_count": 9,
   "id": "370b525b",
   "metadata": {},
   "outputs": [],
   "source": [
    "X = HSI_data[['Open', 'High', 'Low', 'Close']]\n",
    "y = HSI_data['Volume']"
   ]
  },
  {
   "cell_type": "code",
   "execution_count": 10,
   "id": "a929c576",
   "metadata": {},
   "outputs": [],
   "source": [
    "from sklearn.model_selection import train_test_split\n",
    "X_train, X_test, y_train, y_test = train_test_split(X, y, random_state = 0)"
   ]
  },
  {
   "cell_type": "code",
   "execution_count": 11,
   "id": "a24f3f3b",
   "metadata": {},
   "outputs": [
    {
     "data": {
      "text/plain": [
       "(3697, 4)"
      ]
     },
     "execution_count": 11,
     "metadata": {},
     "output_type": "execute_result"
    }
   ],
   "source": [
    "X_train.shape"
   ]
  },
  {
   "cell_type": "code",
   "execution_count": 12,
   "id": "f247e80d",
   "metadata": {},
   "outputs": [],
   "source": [
    "from sklearn.linear_model import LinearRegression\n",
    "from sklearn.metrics import confusion_matrix, accuracy_score\n",
    "regressor = LinearRegression()"
   ]
  },
  {
   "cell_type": "code",
   "execution_count": 13,
   "id": "ae601a91",
   "metadata": {},
   "outputs": [
    {
     "data": {
      "text/plain": [
       "LinearRegression()"
      ]
     },
     "execution_count": 13,
     "metadata": {},
     "output_type": "execute_result"
    }
   ],
   "source": [
    "regressor.fit(X_train, y_train)"
   ]
  },
  {
   "cell_type": "code",
   "execution_count": 14,
   "id": "dc571298",
   "metadata": {},
   "outputs": [
    {
     "name": "stdout",
     "output_type": "stream",
     "text": [
      "[ -391768.4456663   3092148.19802088 -2570235.42500687   -89846.01791701]\n"
     ]
    }
   ],
   "source": [
    "print(regressor.coef_)"
   ]
  },
  {
   "cell_type": "code",
   "execution_count": 15,
   "id": "7b8cad61",
   "metadata": {},
   "outputs": [
    {
     "name": "stdout",
     "output_type": "stream",
     "text": [
      "28894580.417919636\n"
     ]
    }
   ],
   "source": [
    "print(regressor.intercept_)"
   ]
  },
  {
   "cell_type": "code",
   "execution_count": 16,
   "id": "6bdbe95a",
   "metadata": {},
   "outputs": [],
   "source": [
    "predicted = regressor.predict(X_test)"
   ]
  },
  {
   "cell_type": "code",
   "execution_count": 17,
   "id": "d653d334",
   "metadata": {},
   "outputs": [
    {
     "name": "stdout",
     "output_type": "stream",
     "text": [
      "              Open          High           Low         Close\n",
      "4152  28408.119141  28510.919922  28280.089844  28496.859375\n",
      "2946  19506.939453  19519.849609  19328.259766  19414.779297\n",
      "4729  19479.060547  19806.439453  19410.070312  19678.169922\n",
      "1718  22983.369141  23055.470703  22837.089844  22906.900391\n",
      "780   20729.519531  20821.859375  20683.300781  20746.269531\n",
      "...            ...           ...           ...           ...\n",
      "4217  28716.980469  28848.019531  28597.000000  28755.339844\n",
      "3172  22926.300781  23068.080078  22861.289062  22898.519531\n",
      "1834  20056.779297  20264.330078  19924.560547  20260.099609\n",
      "1907  18225.099609  18372.449219  18053.919922  18256.199219\n",
      "748   19380.980469  19537.089844  19270.720703  19516.410156\n",
      "\n",
      "[1233 rows x 4 columns]\n"
     ]
    }
   ],
   "source": [
    "print(X_test)"
   ]
  },
  {
   "cell_type": "code",
   "execution_count": 18,
   "id": "900b3989",
   "metadata": {},
   "outputs": [
    {
     "data": {
      "text/plain": [
       "(1233,)"
      ]
     },
     "execution_count": 18,
     "metadata": {},
     "output_type": "execute_result"
    }
   ],
   "source": [
    "predicted.shape"
   ]
  },
  {
   "cell_type": "code",
   "execution_count": 19,
   "id": "e0581dc8",
   "metadata": {},
   "outputs": [],
   "source": [
    "dframe=pd.DataFrame(y_test, predicted)"
   ]
  },
  {
   "cell_type": "code",
   "execution_count": 20,
   "id": "7ec2db66",
   "metadata": {},
   "outputs": [],
   "source": [
    "dfr = pd.DataFrame({'Actual Volume': y_test, 'Predicted Volume': predicted})"
   ]
  },
  {
   "cell_type": "code",
   "execution_count": 21,
   "id": "34353948",
   "metadata": {},
   "outputs": [
    {
     "name": "stdout",
     "output_type": "stream",
     "text": [
      "      Actual Volume  Predicted Volume\n",
      "4152     3205592600     1812661483.97\n",
      "2946     1225027600     1322440464.52\n",
      "4729     1677939600     1985603844.68\n",
      "1718     1287207300     1560876861.82\n",
      "780      1187355000     1267075802.04\n",
      "...             ...               ...\n",
      "4217     1934891300     1896264160.24\n",
      "3172     1068403800     1560779798.01\n",
      "1834     1827188800     1800492447.61\n",
      "1907     1726122400     1656140033.78\n",
      "748       977841600     1563854388.45\n",
      "\n",
      "[1233 rows x 2 columns]\n"
     ]
    }
   ],
   "source": [
    "# Set the display format for floats to avoid scientific notation\n",
    "pd.set_option('display.float_format', lambda x: '%.2f' % x)\n",
    "\n",
    "# Now print the DataFrame\n",
    "print(dfr)"
   ]
  },
  {
   "cell_type": "code",
   "execution_count": 22,
   "id": "b45cf9de",
   "metadata": {},
   "outputs": [],
   "source": [
    "from sklearn.metrics import confusion_matrix, accuracy_score"
   ]
  },
  {
   "cell_type": "code",
   "execution_count": 23,
   "id": "3db77c10",
   "metadata": {},
   "outputs": [
    {
     "data": {
      "text/plain": [
       "0.4906120977718309"
      ]
     },
     "execution_count": 23,
     "metadata": {},
     "output_type": "execute_result"
    }
   ],
   "source": [
    "regressor.score(X_test, y_test)"
   ]
  },
  {
   "cell_type": "code",
   "execution_count": 24,
   "id": "2a894a5c",
   "metadata": {},
   "outputs": [],
   "source": [
    "import math"
   ]
  },
  {
   "cell_type": "code",
   "execution_count": 25,
   "id": "cc14e060",
   "metadata": {},
   "outputs": [
    {
     "name": "stdout",
     "output_type": "stream",
     "text": [
      "Mean Absolute Error: 482990905.60229015\n"
     ]
    }
   ],
   "source": [
    "print('Mean Absolute Error:', metrics.mean_absolute_error(y_test, predicted))"
   ]
  },
  {
   "cell_type": "code",
   "execution_count": 26,
   "id": "67c35368",
   "metadata": {},
   "outputs": [
    {
     "name": "stdout",
     "output_type": "stream",
     "text": [
      "Mean Sqaured Error: 4.059162917728102e+17\n"
     ]
    }
   ],
   "source": [
    "print('Mean Sqaured Error:', metrics.mean_squared_error(y_test,predicted))"
   ]
  },
  {
   "cell_type": "code",
   "execution_count": 27,
   "id": "9afc9580",
   "metadata": {},
   "outputs": [
    {
     "name": "stdout",
     "output_type": "stream",
     "text": [
      "Root Mean Squared Error: 637115603.1465641\n"
     ]
    }
   ],
   "source": [
    "print('Root Mean Squared Error:', math.sqrt(metrics.mean_squared_error(y_test, predicted)))"
   ]
  },
  {
   "cell_type": "code",
   "execution_count": 28,
   "id": "72183264",
   "metadata": {},
   "outputs": [],
   "source": [
    "graph=dfr.tail(20)"
   ]
  },
  {
   "cell_type": "code",
   "execution_count": 29,
   "id": "38b17eac",
   "metadata": {},
   "outputs": [
    {
     "data": {
      "image/png": "[encoded data removed]",
      "text/plain": [
       "<Figure size 720x432 with 1 Axes>"
      ]
     },
     "metadata": {
      "needs_background": "light"
     },
     "output_type": "display_data"
    }
   ],
   "source": [
    "# Function to format y-axis ticks as real numbers\n",
    "from matplotlib.ticker import FuncFormatter\n",
    "def format_ticks_real(x, pos):\n",
    "    return '{:.0f}'.format(x)\n",
    "\n",
    "# Convert the index to datetime if it's not already\n",
    "dfr.index = pd.to_datetime(dfr.index)\n",
    "\n",
    "# Plotting the actual and predicted volumes\n",
    "ax = dfr.plot(figsize=(10, 6))\n",
    "\n",
    "# Adding labels and title\n",
    "plt.xlabel('Date')\n",
    "plt.ylabel('Volume')\n",
    "plt.title('Actual vs. Predicted Volume')\n",
    "\n",
    "# Formatting y-axis ticks as real numbers\n",
    "ax.yaxis.set_major_formatter(FuncFormatter(format_ticks_real))\n",
    "\n",
    "# Displaying the plot\n",
    "plt.show()"
   ]
  },
  {
   "cell_type": "code",
   "execution_count": 30,
   "id": "b3a15e3a",
   "metadata": {},
   "outputs": [
    {
     "name": "stdout",
     "output_type": "stream",
     "text": [
      "Predicted volume for the next day: 1563854388.4510999\n"
     ]
    }
   ],
   "source": [
    "# Assuming 'X_test' contains the features of the last day in your dataset\n",
    "# Replace this with the last day's data if it's not included in 'X_test'\n",
    "last_day_features = X_test.tail(1)\n",
    "\n",
    "# Predicting the next day's trading volume\n",
    "next_day_predicted_volume = regressor.predict(last_day_features)\n",
    "\n",
    "# Converting the predicted volume to a readable format\n",
    "formatted_predicted_volume = np.format_float_positional(next_day_predicted_volume, trim='-')\n",
    "\n",
    "# Printing the predicted volume for the next day\n",
    "print(\"Predicted volume for the next day:\", formatted_predicted_volume)"
   ]
  },
  {
   "cell_type": "code",
   "execution_count": 31,
   "id": "4fde600a",
   "metadata": {},
   "outputs": [
    {
     "name": "stdout",
     "output_type": "stream",
     "text": [
      "[*********************100%***********************]  1 of 1 completed\n"
     ]
    }
   ],
   "source": [
    "#Fetch HSI data using yfinance \n",
    "start_date = '2024-03-14'\n",
    "end_date = '2024-03-15'\n",
    "symbols = ['^HSI']\n",
    "HSI_data1 = yf.download(symbols, start=start_date, end=end_date)"
   ]
  },
  {
   "cell_type": "code",
   "execution_count": 32,
   "id": "d87f56a0",
   "metadata": {},
   "outputs": [
    {
     "data": {
      "text/html": [
       "<div>\n",
       "<style scoped>\n",
       "    .dataframe tbody tr th:only-of-type {\n",
       "        vertical-align: middle;\n",
       "    }\n",
       "\n",
       "    .dataframe tbody tr th {\n",
       "        vertical-align: top;\n",
       "    }\n",
       "\n",
       "    .dataframe thead th {\n",
       "        text-align: right;\n",
       "    }\n",
       "</style>\n",
       "<table border=\"1\" class=\"dataframe\">\n",
       "  <thead>\n",
       "    <tr style=\"text-align: right;\">\n",
       "      <th></th>\n",
       "      <th>Open</th>\n",
       "      <th>High</th>\n",
       "      <th>Low</th>\n",
       "      <th>Close</th>\n",
       "      <th>Adj Close</th>\n",
       "      <th>Volume</th>\n",
       "    </tr>\n",
       "    <tr>\n",
       "      <th>Date</th>\n",
       "      <th></th>\n",
       "      <th></th>\n",
       "      <th></th>\n",
       "      <th></th>\n",
       "      <th></th>\n",
       "      <th></th>\n",
       "    </tr>\n",
       "  </thead>\n",
       "  <tbody>\n",
       "    <tr>\n",
       "      <th>2024-03-14</th>\n",
       "      <td>17120.54</td>\n",
       "      <td>17209.82</td>\n",
       "      <td>16878.11</td>\n",
       "      <td>16961.66</td>\n",
       "      <td>16961.66</td>\n",
       "      <td>2699096400</td>\n",
       "    </tr>\n",
       "  </tbody>\n",
       "</table>\n",
       "</div>"
      ],
      "text/plain": [
       "               Open     High      Low    Close  Adj Close      Volume\n",
       "Date                                                                 \n",
       "2024-03-14 17120.54 17209.82 16878.11 16961.66   16961.66  2699096400"
      ]
     },
     "execution_count": 32,
     "metadata": {},
     "output_type": "execute_result"
    }
   ],
   "source": [
    "HSI_data1"
   ]
  },
  {
   "cell_type": "markdown",
   "id": "01080c4a",
   "metadata": {},
   "source": [
    "#### error is 1563854388.4510999-2699096400=-1135242012, which is -42%"
   ]
  }
 ],
 "metadata": {
  "kernelspec": {
   "display_name": "Python 3 (ipykernel)",
   "language": "python",
   "name": "python3"
  },
  "language_info": {
   "codemirror_mode": {
    "name": "ipython",
    "version": 3
   },
   "file_extension": ".py",
   "mimetype": "text/x-python",
   "name": "python",
   "nbconvert_exporter": "python",
   "pygments_lexer": "ipython3",
   "version": "3.9.12"
  }
 },
 "nbformat": 4,
 "nbformat_minor": 5
}
