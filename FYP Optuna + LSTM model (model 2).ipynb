{
 "cells": [
  {
   "cell_type": "code",
   "execution_count": 1,
   "id": "c07b951e",
   "metadata": {},
   "outputs": [],
   "source": [
    "import numpy as np\n",
    "import math\n",
    "import optuna\n",
    "from optuna.samplers import TPESampler\n",
    "from sklearn.preprocessing import MinMaxScaler\n",
    "from tensorflow.keras.models import Sequential\n",
    "from tensorflow.keras.layers import LSTM, Dense\n",
    "import yfinance as yf\n",
    "from tensorflow.keras.optimizers import Adam"
   ]
  },
  {
   "cell_type": "code",
   "execution_count": 2,
   "id": "597a94a0",
   "metadata": {},
   "outputs": [
    {
     "name": "stdout",
     "output_type": "stream",
     "text": [
      "[*********************100%***********************]  1 of 1 completed\n"
     ]
    }
   ],
   "source": [
    "# Fetching HSI data using yfinance\n",
    "start_date = '2004-03-13'\n",
    "end_date = '2024-03-14'\n",
    "symbols = ['^HSI']\n",
    "HSI_data = yf.download(symbols, start=start_date, end=end_date)\n",
    "\n",
    "HSI_data = HSI_data[['Volume']]\n",
    "HSI_training_data_len = math.ceil(len(HSI_data)*0.8)\n",
    "\n"
   ]
  },
  {
   "cell_type": "code",
   "execution_count": 3,
   "id": "e022f733",
   "metadata": {},
   "outputs": [],
   "source": [
    "# Define a new scaler for 'Adj Close'\n",
    "target_scaler = MinMaxScaler(feature_range=(0, 1))\n",
    "scaled_data = target_scaler.fit_transform(HSI_data)\n",
    "\n",
    "# Split data into training and testing sets\n",
    "train_data = scaled_data[:HSI_training_data_len]\n",
    "test_data = scaled_data[HSI_training_data_len:]\n"
   ]
  },
  {
   "cell_type": "code",
   "execution_count": 4,
   "id": "b045f156",
   "metadata": {},
   "outputs": [],
   "source": [
    "# Define the create_sequences function\n",
    "def create_sequences(features, target, step):\n",
    "    x, y = [], []\n",
    "    for i in range(len(features) - step):\n",
    "        x.append(features[i:(i + step)])\n",
    "        y.append(target[i + step])\n",
    "    return np.array(x), np.array(y)"
   ]
  },
  {
   "cell_type": "code",
   "execution_count": 5,
   "id": "6e6030ed",
   "metadata": {},
   "outputs": [],
   "source": [
    "# # Define the Optuna objective function\n",
    "# def objective(trial):\n",
    "#     # Define search space\n",
    "#     step = trial.suggest_int(\"step\", 10, 60)\n",
    "#     lstm_units = trial.suggest_int(\"lstm_units\", 32, 64)\n",
    "#     dense_units = trial.suggest_int(\"dense_units\", 16, 64)\n",
    "#     epochs = trial.suggest_int(\"epochs\", 10, 100)\n",
    "#     batch_size = trial.suggest_categorical(\"batch_size\", [16, 32, 64])\n",
    "#     learning_rate = trial.suggest_float(\"learning_rate\", 1e-4, 1e-2, log=True)\n",
    "    \n",
    "#     x_train, y_train = create_sequences(train_data, train_data, step)\n",
    "#     x_test, y_test = create_sequences(test_data, test_data, step)\n",
    "    \n",
    "#     model = Sequential()\n",
    "#     model.add(LSTM(lstm_units, return_sequences=True, input_shape=(x_train.shape[1], 1)))\n",
    "#     model.add(LSTM(lstm_units, return_sequences=False))\n",
    "#     model.add(Dense(dense_units))\n",
    "#     model.add(Dense(1))\n",
    "    \n",
    "#     optimizer = 'adam'\n",
    "#     model.compile(optimizer=optimizer, loss='mean_squared_error')\n",
    "    \n",
    "#     model.fit(x_train, y_train, validation_data=(x_test, y_test), epochs=epochs, batch_size=batch_size, verbose=0)\n",
    "    \n",
    "#     val_loss = model.evaluate(x_test, y_test)\n",
    "    \n",
    "#     return val_loss\n",
    "\n",
    "# # Running the optimization\n",
    "# sampler = TPESampler(seed=10)\n",
    "# study = optuna.create_study(direction=\"minimize\", sampler=sampler)\n",
    "# study.optimize(objective, n_trials=100)\n",
    "\n",
    "# best_params = study.best_params\n",
    "# best_rmse = study.best_value\n",
    "\n",
    "# print(f\"Best RMSE: {best_rmse} with params={best_params}\")"
   ]
  },
  {
   "cell_type": "code",
   "execution_count": 6,
   "id": "a3dd0b1b",
   "metadata": {},
   "outputs": [
    {
     "name": "stdout",
     "output_type": "stream",
     "text": [
      "Epoch 1/90\n",
      "62/62 [==============================] - 6s 10ms/step - loss: 0.0048\n",
      "Epoch 2/90\n",
      "62/62 [==============================] - 1s 10ms/step - loss: 0.0033\n",
      "Epoch 3/90\n",
      "62/62 [==============================] - 1s 10ms/step - loss: 0.0031\n",
      "Epoch 4/90\n",
      "62/62 [==============================] - 1s 10ms/step - loss: 0.0032\n",
      "Epoch 5/90\n",
      "62/62 [==============================] - 1s 10ms/step - loss: 0.0031\n",
      "Epoch 6/90\n",
      "62/62 [==============================] - 1s 9ms/step - loss: 0.0030\n",
      "Epoch 7/90\n",
      "62/62 [==============================] - 1s 10ms/step - loss: 0.0030\n",
      "Epoch 8/90\n",
      "62/62 [==============================] - 1s 9ms/step - loss: 0.0030\n",
      "Epoch 9/90\n",
      "62/62 [==============================] - 1s 9ms/step - loss: 0.0030\n",
      "Epoch 10/90\n",
      "62/62 [==============================] - 1s 11ms/step - loss: 0.0031\n",
      "Epoch 11/90\n",
      "62/62 [==============================] - 1s 10ms/step - loss: 0.0030\n",
      "Epoch 12/90\n",
      "62/62 [==============================] - 1s 10ms/step - loss: 0.0029\n",
      "Epoch 13/90\n",
      "62/62 [==============================] - 1s 10ms/step - loss: 0.0030\n",
      "Epoch 14/90\n",
      "62/62 [==============================] - 1s 10ms/step - loss: 0.0030\n",
      "Epoch 15/90\n",
      "62/62 [==============================] - 1s 10ms/step - loss: 0.0029\n",
      "Epoch 16/90\n",
      "62/62 [==============================] - 1s 9ms/step - loss: 0.0030\n",
      "Epoch 17/90\n",
      "62/62 [==============================] - 1s 10ms/step - loss: 0.0030\n",
      "Epoch 18/90\n",
      "62/62 [==============================] - 1s 9ms/step - loss: 0.0029\n",
      "Epoch 19/90\n",
      "62/62 [==============================] - 1s 9ms/step - loss: 0.0030\n",
      "Epoch 20/90\n",
      "62/62 [==============================] - 1s 10ms/step - loss: 0.0029\n",
      "Epoch 21/90\n",
      "62/62 [==============================] - 1s 10ms/step - loss: 0.0030\n",
      "Epoch 22/90\n",
      "62/62 [==============================] - 1s 10ms/step - loss: 0.0030\n",
      "Epoch 23/90\n",
      "62/62 [==============================] - 1s 10ms/step - loss: 0.0030\n",
      "Epoch 24/90\n",
      "62/62 [==============================] - 1s 10ms/step - loss: 0.0029\n",
      "Epoch 25/90\n",
      "62/62 [==============================] - 1s 10ms/step - loss: 0.0029\n",
      "Epoch 26/90\n",
      "62/62 [==============================] - 1s 10ms/step - loss: 0.0029\n",
      "Epoch 27/90\n",
      "62/62 [==============================] - 1s 10ms/step - loss: 0.0029\n",
      "Epoch 28/90\n",
      "62/62 [==============================] - 1s 11ms/step - loss: 0.0029\n",
      "Epoch 29/90\n",
      "62/62 [==============================] - 1s 10ms/step - loss: 0.0029\n",
      "Epoch 30/90\n",
      "62/62 [==============================] - 1s 10ms/step - loss: 0.0029\n",
      "Epoch 31/90\n",
      "62/62 [==============================] - 1s 10ms/step - loss: 0.0029\n",
      "Epoch 32/90\n",
      "62/62 [==============================] - 1s 10ms/step - loss: 0.0029\n",
      "Epoch 33/90\n",
      "62/62 [==============================] - 1s 9ms/step - loss: 0.0029\n",
      "Epoch 34/90\n",
      "62/62 [==============================] - 1s 9ms/step - loss: 0.0029\n",
      "Epoch 35/90\n",
      "62/62 [==============================] - 1s 10ms/step - loss: 0.0029\n",
      "Epoch 36/90\n",
      "62/62 [==============================] - 1s 10ms/step - loss: 0.0029\n",
      "Epoch 37/90\n",
      "62/62 [==============================] - 1s 9ms/step - loss: 0.0029\n",
      "Epoch 38/90\n",
      "62/62 [==============================] - 1s 9ms/step - loss: 0.0029\n",
      "Epoch 39/90\n",
      "62/62 [==============================] - 1s 9ms/step - loss: 0.0029\n",
      "Epoch 40/90\n",
      "62/62 [==============================] - 1s 10ms/step - loss: 0.0030\n",
      "Epoch 41/90\n",
      "62/62 [==============================] - 1s 10ms/step - loss: 0.0029\n",
      "Epoch 42/90\n",
      "62/62 [==============================] - 1s 9ms/step - loss: 0.0030\n",
      "Epoch 43/90\n",
      "62/62 [==============================] - 1s 10ms/step - loss: 0.0029\n",
      "Epoch 44/90\n",
      "62/62 [==============================] - 1s 11ms/step - loss: 0.0029\n",
      "Epoch 45/90\n",
      "62/62 [==============================] - 1s 10ms/step - loss: 0.0029\n",
      "Epoch 46/90\n",
      "62/62 [==============================] - 1s 11ms/step - loss: 0.0030\n",
      "Epoch 47/90\n",
      "62/62 [==============================] - 1s 9ms/step - loss: 0.0029\n",
      "Epoch 48/90\n",
      "62/62 [==============================] - 1s 10ms/step - loss: 0.0029\n",
      "Epoch 49/90\n",
      "62/62 [==============================] - 1s 9ms/step - loss: 0.0029\n",
      "Epoch 50/90\n",
      "62/62 [==============================] - 1s 10ms/step - loss: 0.0028\n",
      "Epoch 51/90\n",
      "62/62 [==============================] - 1s 9ms/step - loss: 0.0029\n",
      "Epoch 52/90\n",
      "62/62 [==============================] - 1s 10ms/step - loss: 0.0029\n",
      "Epoch 53/90\n",
      "62/62 [==============================] - 1s 10ms/step - loss: 0.0029\n",
      "Epoch 54/90\n",
      "62/62 [==============================] - 1s 10ms/step - loss: 0.0029\n",
      "Epoch 55/90\n",
      "62/62 [==============================] - 1s 10ms/step - loss: 0.0029\n",
      "Epoch 56/90\n",
      "62/62 [==============================] - 1s 11ms/step - loss: 0.0029\n",
      "Epoch 57/90\n",
      "62/62 [==============================] - 1s 11ms/step - loss: 0.0029\n",
      "Epoch 58/90\n",
      "62/62 [==============================] - 1s 12ms/step - loss: 0.0029\n",
      "Epoch 59/90\n",
      "62/62 [==============================] - 1s 12ms/step - loss: 0.0028\n",
      "Epoch 60/90\n",
      "62/62 [==============================] - 1s 12ms/step - loss: 0.0029\n",
      "Epoch 61/90\n",
      "62/62 [==============================] - 1s 12ms/step - loss: 0.0029\n",
      "Epoch 62/90\n",
      "62/62 [==============================] - 1s 12ms/step - loss: 0.0029\n",
      "Epoch 63/90\n",
      "62/62 [==============================] - 1s 11ms/step - loss: 0.0029\n",
      "Epoch 64/90\n",
      "62/62 [==============================] - 1s 11ms/step - loss: 0.0029\n",
      "Epoch 65/90\n",
      "62/62 [==============================] - 1s 11ms/step - loss: 0.0028\n",
      "Epoch 66/90\n",
      "62/62 [==============================] - 1s 11ms/step - loss: 0.0028\n",
      "Epoch 67/90\n",
      "62/62 [==============================] - 1s 11ms/step - loss: 0.0029\n",
      "Epoch 68/90\n",
      "62/62 [==============================] - 1s 11ms/step - loss: 0.0029\n",
      "Epoch 69/90\n",
      "62/62 [==============================] - 1s 12ms/step - loss: 0.0029\n",
      "Epoch 70/90\n",
      "62/62 [==============================] - 1s 11ms/step - loss: 0.0029\n",
      "Epoch 71/90\n",
      "62/62 [==============================] - 1s 12ms/step - loss: 0.0029\n",
      "Epoch 72/90\n",
      "62/62 [==============================] - 1s 12ms/step - loss: 0.0030\n",
      "Epoch 73/90\n",
      "62/62 [==============================] - 1s 12ms/step - loss: 0.0029\n",
      "Epoch 74/90\n",
      "62/62 [==============================] - 1s 12ms/step - loss: 0.0029\n",
      "Epoch 75/90\n",
      "62/62 [==============================] - 1s 12ms/step - loss: 0.0029\n",
      "Epoch 76/90\n",
      "62/62 [==============================] - 1s 12ms/step - loss: 0.0028\n",
      "Epoch 77/90\n",
      "62/62 [==============================] - 1s 12ms/step - loss: 0.0028\n",
      "Epoch 78/90\n",
      "62/62 [==============================] - 1s 12ms/step - loss: 0.0029\n",
      "Epoch 79/90\n",
      "62/62 [==============================] - 1s 12ms/step - loss: 0.0029\n",
      "Epoch 80/90\n",
      "62/62 [==============================] - 1s 12ms/step - loss: 0.0029\n",
      "Epoch 81/90\n",
      "62/62 [==============================] - 1s 11ms/step - loss: 0.0029\n",
      "Epoch 82/90\n",
      "62/62 [==============================] - 1s 11ms/step - loss: 0.0029\n",
      "Epoch 83/90\n",
      "62/62 [==============================] - 1s 11ms/step - loss: 0.0028\n",
      "Epoch 84/90\n",
      "62/62 [==============================] - 1s 11ms/step - loss: 0.0028\n",
      "Epoch 85/90\n",
      "62/62 [==============================] - 1s 11ms/step - loss: 0.0029\n",
      "Epoch 86/90\n",
      "62/62 [==============================] - 1s 11ms/step - loss: 0.0028\n",
      "Epoch 87/90\n",
      "62/62 [==============================] - 1s 11ms/step - loss: 0.0028\n",
      "Epoch 88/90\n",
      "62/62 [==============================] - 1s 11ms/step - loss: 0.0028\n",
      "Epoch 89/90\n",
      "62/62 [==============================] - 1s 10ms/step - loss: 0.0028\n",
      "Epoch 90/90\n",
      "62/62 [==============================] - 1s 11ms/step - loss: 0.0029\n"
     ]
    }
   ],
   "source": [
    "# Create the training dataset\n",
    "train_data = scaled_data[0:HSI_training_data_len, :]\n",
    "x_train = []\n",
    "y_train = []\n",
    "\n",
    "# Create sequences\n",
    "step = 17  # Optimal step value\n",
    "for i in range(step, len(train_data)):\n",
    "    x_train.append(train_data[i - step:i, 0])\n",
    "    y_train.append(train_data[i, 0])\n",
    "\n",
    "x_train, y_train = np.array(x_train), np.array(y_train)\n",
    "\n",
    "# Reshape the data\n",
    "x_train = np.reshape(x_train, (x_train.shape[0], x_train.shape[1], 1))\n",
    "\n",
    "# Define best parameters\n",
    "lstm_units = 34\n",
    "dense_units = 53\n",
    "epochs = 90\n",
    "batch_size = 64\n",
    "learning_rate = 0.006837405994037031\n",
    "\n",
    "# Build the LSTM model with best parameters\n",
    "model = Sequential()\n",
    "model.add(LSTM(lstm_units, return_sequences=True, input_shape=(x_train.shape[1], 1)))\n",
    "model.add(LSTM(lstm_units, return_sequences=False))\n",
    "model.add(Dense(dense_units))\n",
    "model.add(Dense(1))\n",
    "optimizer = Adam(learning_rate=learning_rate)\n",
    "model.compile(optimizer=optimizer, loss='mean_squared_error')\n",
    "\n",
    "# Train the model\n",
    "history = model.fit(x_train, y_train, epochs=epochs, batch_size=batch_size, verbose=1)"
   ]
  },
  {
   "cell_type": "code",
   "execution_count": 7,
   "id": "350759af",
   "metadata": {
    "scrolled": false
   },
   "outputs": [
    {
     "name": "stdout",
     "output_type": "stream",
     "text": [
      "31/31 [==============================] - 1s 4ms/step\n"
     ]
    },
    {
     "data": {
      "image/png": "[encoded data removed]",
      "text/plain": [
       "<Figure size 720x432 with 1 Axes>"
      ]
     },
     "metadata": {
      "needs_background": "light"
     },
     "output_type": "display_data"
    }
   ],
   "source": [
    "import matplotlib.pyplot as plt\n",
    "\n",
    "# Make predictions on the test dataset\n",
    "test_data = scaled_data[HSI_training_data_len - step:]\n",
    "x_test, y_test = create_sequences(test_data, test_data, step)\n",
    "predictions = model.predict(x_test)\n",
    "\n",
    "# Inverse transform the scaled data to original scale\n",
    "predictions = target_scaler.inverse_transform(predictions)\n",
    "y_test = target_scaler.inverse_transform(y_test.reshape(-1, 1))\n",
    "\n",
    "# Plot the actual vs predicted values\n",
    "plt.figure(figsize=(10, 6))\n",
    "plt.plot(y_test, label='Actual')\n",
    "plt.plot(predictions, label='Predicted')\n",
    "plt.title('Actual vs Predicted HSI Volume')\n",
    "plt.xlabel('Time')\n",
    "plt.ylabel('Volume')\n",
    "\n",
    "# Manually set tick formatter to display real values without scientific notation\n",
    "plt.ticklabel_format(style='plain', axis='y')\n",
    "\n",
    "plt.legend()\n",
    "plt.show()"
   ]
  },
  {
   "cell_type": "code",
   "execution_count": 8,
   "id": "6248bfad",
   "metadata": {},
   "outputs": [
    {
     "name": "stdout",
     "output_type": "stream",
     "text": [
      "        Actual  Predicted  Difference\n",
      "976 3380825500 2471879680   908945820\n",
      "977 2880658500 2944962048   -64303548\n",
      "978 2519017900 2779566080  -260548180\n",
      "979 2697889500 2507460608   190428892\n",
      "980 2488701100 2557122048   -68420948\n",
      "981 2535414300 2488534528    46879772\n",
      "982 2596313300 2508399360    87913940\n",
      "983 2494031000 2536213760   -42182760\n",
      "984 4001753000 2485523200  1516229800\n",
      "985 2801014000 3217482496  -416468496\n"
     ]
    }
   ],
   "source": [
    "import pandas as pd\n",
    "\n",
    "# Convert actual and predicted values to DataFrame\n",
    "df_actual = pd.DataFrame(y_test, columns=['Actual'])\n",
    "df_predicted = pd.DataFrame(predictions, columns=['Predicted'])\n",
    "\n",
    "# Calculate the difference between actual and predicted values\n",
    "df_difference = df_actual.subtract(df_predicted['Predicted'], axis=0)\n",
    "df_difference.columns = ['Difference']\n",
    "\n",
    "# Concatenate actual, predicted, and difference DataFrames\n",
    "df_comparison = pd.concat([df_actual, df_predicted, df_difference], axis=1)\n",
    "\n",
    "# Set display options to show numbers in full precision\n",
    "pd.options.display.float_format = '{:.0f}'.format\n",
    "\n",
    "# Display the DataFrame\n",
    "print(df_comparison.tail(10))"
   ]
  },
  {
   "cell_type": "code",
   "execution_count": 9,
   "id": "0f40aa60",
   "metadata": {},
   "outputs": [
    {
     "name": "stdout",
     "output_type": "stream",
     "text": [
      "Root Mean Squared Error (RMSE): 621534403.0159324\n",
      "Mean Absolute Error (MAE): 428894232.29614604\n"
     ]
    }
   ],
   "source": [
    "from sklearn.metrics import mean_squared_error, mean_absolute_error\n",
    "\n",
    "# Calculate RMSE\n",
    "rmse = np.sqrt(mean_squared_error(y_test, predictions))\n",
    "\n",
    "# Calculate MAE\n",
    "mae = mean_absolute_error(y_test, predictions)\n",
    "\n",
    "print(\"Root Mean Squared Error (RMSE):\", rmse)\n",
    "print(\"Mean Absolute Error (MAE):\", mae)"
   ]
  },
  {
   "cell_type": "code",
   "execution_count": 10,
   "id": "9242075e",
   "metadata": {},
   "outputs": [
    {
     "name": "stdout",
     "output_type": "stream",
     "text": [
      "1/1 [==============================] - 0s 21ms/step\n",
      "Predicted Volume for the Next Day: 2772583680.0\n"
     ]
    }
   ],
   "source": [
    "# Get the most recent data\n",
    "most_recent_data = scaled_data[-17:] \n",
    "\n",
    "# Reshape the data\n",
    "x_input = np.reshape(most_recent_data, (1, most_recent_data.shape[0], 1))\n",
    "\n",
    "# Make predictions\n",
    "predicted_volume = model.predict(x_input)\n",
    "\n",
    "# Inverse transform the predicted volume\n",
    "predicted_volume = target_scaler.inverse_transform(predicted_volume)\n",
    "\n",
    "# Convert scientific notation to regular number\n",
    "predicted_volume = float(\"{:.2f}\".format(predicted_volume[0][0]))\n",
    "\n",
    "print(\"Predicted Volume for the Next Day:\", predicted_volume)\n"
   ]
  },
  {
   "cell_type": "code",
   "execution_count": 14,
   "id": "654fd01c",
   "metadata": {},
   "outputs": [
    {
     "name": "stdout",
     "output_type": "stream",
     "text": [
      "[*********************100%***********************]  1 of 1 completed\n"
     ]
    }
   ],
   "source": [
    "# Fetching HSI data using yfinance\n",
    "start_date = '2024-03-14'\n",
    "end_date = '2024-03-15'\n",
    "symbols = ['^HSI']\n",
    "HSI_data1 = yf.download(symbols, start=start_date, end=end_date)"
   ]
  },
  {
   "cell_type": "code",
   "execution_count": 15,
   "id": "3f7327a3",
   "metadata": {},
   "outputs": [
    {
     "name": "stdout",
     "output_type": "stream",
     "text": [
      "            Open  High   Low  Close  Adj Close      Volume\n",
      "Date                                                      \n",
      "2024-03-14 17121 17210 16878  16962      16962  2699096400\n"
     ]
    }
   ],
   "source": [
    "print(HSI_data1)"
   ]
  },
  {
   "cell_type": "markdown",
   "id": "13936ec4",
   "metadata": {},
   "source": [
    "#### error is 2772583680-2699096400=-73487280, which is -2.7% in percentage"
   ]
  }
 ],
 "metadata": {
  "kernelspec": {
   "display_name": "Python 3 (ipykernel)",
   "language": "python",
   "name": "python3"
  },
  "language_info": {
   "codemirror_mode": {
    "name": "ipython",
    "version": 3
   },
   "file_extension": ".py",
   "mimetype": "text/x-python",
   "name": "python",
   "nbconvert_exporter": "python",
   "pygments_lexer": "ipython3",
   "version": "3.9.12"
  }
 },
 "nbformat": 4,
 "nbformat_minor": 5
}
